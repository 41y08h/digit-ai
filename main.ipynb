{
 "cells": [
  {
   "cell_type": "code",
   "execution_count": 1,
   "id": "00847d0d",
   "metadata": {},
   "outputs": [],
   "source": [
    "import numpy as np\n",
    "import matplotlib.pyplot as plt\n",
    "import pandas as pd\n",
    "from sklearn.datasets import load_digits"
   ]
  },
  {
   "cell_type": "code",
   "execution_count": 79,
   "id": "55703b6b",
   "metadata": {},
   "outputs": [],
   "source": [
    "digits = load_digits()\n",
    "X = digits.data\n",
    "y = digits.target"
   ]
  },
  {
   "cell_type": "code",
   "execution_count": 80,
   "id": "826eba5a",
   "metadata": {},
   "outputs": [],
   "source": [
    "from sklearn.model_selection import train_test_split\n",
    "\n",
    "X_train, X_test, y_train, y_test = train_test_split(X, y, test_size=0.3)"
   ]
  },
  {
   "cell_type": "code",
   "execution_count": 4,
   "id": "04f68e07",
   "metadata": {},
   "outputs": [],
   "source": [
    "from sklearn.linear_model import LogisticRegression\n",
    "from sklearn.neighbors import KNeighborsClassifier\n",
    "from sklearn.ensemble import RandomForestClassifier\n",
    "from sklearn import svm"
   ]
  },
  {
   "cell_type": "code",
   "execution_count": 33,
   "id": "6668b70e",
   "metadata": {},
   "outputs": [
    {
     "data": {
      "text/plain": [
       "0.987037037037037"
      ]
     },
     "execution_count": 33,
     "metadata": {},
     "output_type": "execute_result"
    }
   ],
   "source": [
    "clf = svm.SVC(gamma=0.001)\n",
    "clf.fit(X_train, y_train)\n",
    "clf.score(X_test, y_test)"
   ]
  },
  {
   "cell_type": "code",
   "execution_count": 34,
   "id": "a0327303",
   "metadata": {},
   "outputs": [
    {
     "data": {
      "text/plain": [
       "array([9])"
      ]
     },
     "execution_count": 34,
     "metadata": {},
     "output_type": "execute_result"
    }
   ],
   "source": [
    "clf.predict([X[9]])"
   ]
  },
  {
   "cell_type": "code",
   "execution_count": 35,
   "id": "3a273476",
   "metadata": {},
   "outputs": [],
   "source": [
    "from sklearn.model_selection import cross_val_score"
   ]
  },
  {
   "cell_type": "code",
   "execution_count": 36,
   "id": "57dd61bc",
   "metadata": {},
   "outputs": [
    {
     "data": {
      "text/plain": [
       "0.9721866295264624"
      ]
     },
     "execution_count": 36,
     "metadata": {},
     "output_type": "execute_result"
    }
   ],
   "source": [
    "np.mean(cross_val_score(clf, X, y, ))"
   ]
  },
  {
   "cell_type": "code",
   "execution_count": 37,
   "id": "8c1b6c56",
   "metadata": {},
   "outputs": [],
   "source": [
    "from sklearn.metrics import classification_report"
   ]
  },
  {
   "cell_type": "code",
   "execution_count": 38,
   "id": "b60b9ab6",
   "metadata": {},
   "outputs": [
    {
     "name": "stdout",
     "output_type": "stream",
     "text": [
      "              precision    recall  f1-score   support\n",
      "\n",
      "           0       1.00      1.00      1.00        54\n",
      "           1       0.96      1.00      0.98        55\n",
      "           2       1.00      1.00      1.00        61\n",
      "           3       1.00      0.98      0.99        53\n",
      "           4       1.00      1.00      1.00        57\n",
      "           5       0.98      0.98      0.98        55\n",
      "           6       1.00      1.00      1.00        57\n",
      "           7       1.00      0.98      0.99        59\n",
      "           8       0.95      0.95      0.95        43\n",
      "           9       0.96      0.96      0.96        46\n",
      "\n",
      "    accuracy                           0.99       540\n",
      "   macro avg       0.99      0.99      0.99       540\n",
      "weighted avg       0.99      0.99      0.99       540\n",
      "\n"
     ]
    }
   ],
   "source": [
    "report = classification_report(y_test, clf.predict(X_test))\n",
    "print(report)"
   ]
  },
  {
   "cell_type": "code",
   "execution_count": 295,
   "id": "9582baf4",
   "metadata": {},
   "outputs": [],
   "source": [
    "from PIL import Image\n",
    "import requests\n",
    "\n",
    "url = 'https://miro.medium.com/max/451/0*kKxxK1YXSyWMEBtS.PNG'\n",
    "im = Image.open(requests.get(url, stream=True).raw).convert(\"L\")\n",
    "im = im.resize((8,8))"
   ]
  },
  {
   "cell_type": "code",
   "execution_count": 322,
   "id": "011d2d24",
   "metadata": {},
   "outputs": [
    {
     "data": {
      "text/plain": [
       "array([[ 0.,  0.,  0.,  0.,  0.,  0.,  0.,  0.],\n",
       "       [ 0.,  2.,  8.,  9.,  8.,  4.,  0.,  0.],\n",
       "       [ 0.,  1.,  2.,  0.,  7.,  7.,  0.,  0.],\n",
       "       [ 0.,  0.,  0.,  7., 11.,  0.,  0.,  0.],\n",
       "       [ 0.,  0.,  0.,  4.,  8.,  7.,  0.,  0.],\n",
       "       [ 0.,  0.,  0.,  0.,  0.,  9.,  3.,  0.],\n",
       "       [ 0.,  0.,  7.,  9.,  9.,  8.,  1.,  0.],\n",
       "       [ 0.,  0.,  0.,  0.,  0.,  0.,  0.,  0.]])"
      ]
     },
     "execution_count": 322,
     "metadata": {},
     "output_type": "execute_result"
    }
   ],
   "source": [
    "num_image = np.asarray(im)\n",
    "num_image = (num_image * (16/255)).astype(int).astype('float64')\n",
    "num_image"
   ]
  },
  {
   "cell_type": "code",
   "execution_count": 323,
   "id": "ee7bf272",
   "metadata": {},
   "outputs": [
    {
     "data": {
      "text/plain": [
       "<matplotlib.image.AxesImage at 0x1e8ddfefc10>"
      ]
     },
     "execution_count": 323,
     "metadata": {},
     "output_type": "execute_result"
    },
    {
     "data": {
      "image/png": "[encoded data removed]",
      "text/plain": [
       "<Figure size 432x288 with 1 Axes>"
      ]
     },
     "metadata": {
      "needs_background": "light"
     },
     "output_type": "display_data"
    }
   ],
   "source": [
    "plt.gray()\n",
    "plt.imshow(num_image)"
   ]
  },
  {
   "cell_type": "code",
   "execution_count": 324,
   "id": "dbda5545",
   "metadata": {},
   "outputs": [
    {
     "data": {
      "text/plain": [
       "array([3])"
      ]
     },
     "execution_count": 324,
     "metadata": {},
     "output_type": "execute_result"
    }
   ],
   "source": [
    "clf.predict(num_image.reshape(1, 64))"
   ]
  }
 ],
 "metadata": {
  "kernelspec": {
   "display_name": "Python 3 (ipykernel)",
   "language": "python",
   "name": "python3"
  },
  "language_info": {
   "codemirror_mode": {
    "name": "ipython",
    "version": 3
   },
   "file_extension": ".py",
   "mimetype": "text/x-python",
   "name": "python",
   "nbconvert_exporter": "python",
   "pygments_lexer": "ipython3",
   "version": "3.9.12"
  }
 },
 "nbformat": 4,
 "nbformat_minor": 5
}
